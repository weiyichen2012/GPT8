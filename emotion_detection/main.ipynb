{
 "cells": [
  {
   "cell_type": "code",
   "execution_count": 1,
   "metadata": {},
   "outputs": [],
   "source": [
    "from openai import OpenAI\n",
    "import httpx\n",
    "\n",
    "f = open(\"api_key\", \"r\")\n",
    "api_key = f.readline()\n",
    "\n",
    "client = OpenAI(api_key=api_key, timeout=10, http_client=httpx.Client(proxy=\"http://127.0.0.1:1080\"))\n",
    "completion = client.chat.completions.create(\n",
    "  model=\"gpt-4-turbo-preview\",\n",
    "  messages=[\n",
    "    {\"role\": \"user\", \"content\": \"一个人说学习好累我不想干了，他的情绪是以下哪种？开心，悲伤，愤怒，焦虑，无聊，恐惧，惊讶，厌恶，烦躁。仅仅回答每种情绪的可能性，用数字%表达。\"},\n",
    "  ],\n",
    "  timeout=10\n",
    ")"
   ]
  },
  {
   "cell_type": "code",
   "execution_count": 2,
   "metadata": {},
   "outputs": [
    {
     "name": "stdout",
     "output_type": "stream",
     "text": [
      "- 开心：0%\n",
      "- 悲伤：20%\n",
      "- 愤怒：10%\n",
      "- 焦虑：30%\n",
      "- 无聊：20%\n",
      "- 恐惧：10%\n",
      "- 惊讶：0%\n",
      "- 厌恶：5%\n",
      "- 烦躁：25%\n"
     ]
    }
   ],
   "source": [
    "print(completion.choices[0].message.content)"
   ]
  },
  {
   "cell_type": "code",
   "execution_count": 3,
   "metadata": {},
   "outputs": [
    {
     "name": "stdout",
     "output_type": "stream",
     "text": [
      "{'id': 'chatcmpl-94Ol3CZXjQs2f6128jpp8Mqdp7UAX', 'object': 'chat.completion', 'created': 1710835509, 'model': 'gpt-4-1106-vision-preview', 'choices': [{'index': 0, 'message': {'role': 'assistant', 'content': '根据图片中的人的表情和肢体语言，以下是每种情绪的可能性：\\n\\n- 开心：95%\\n- 悲伤：5%\\n- 愤怒：0%\\n- 焦虑：0%\\n- 无聊：0%\\n- 恐惧：0%\\n- 惊讶：0%\\n- 厌恶：0%\\n- 烦躁：0%\\n\\n这些百分比基于图中人物的微笑和肢体姿势所表现出的积极和快乐的情感。请注意，这仅是一个主观的估计。'}, 'finish_reason': 'stop'}], 'usage': {'prompt_tokens': 342, 'completion_tokens': 163, 'total_tokens': 505}, 'system_fingerprint': None}\n"
     ]
    }
   ],
   "source": [
    "import base64\n",
    "import requests\n",
    "from openai import OpenAI\n",
    "\n",
    "\n",
    "# Function to encode the image\n",
    "def encode_image(image_path):\n",
    "  with open(image_path, \"rb\") as image_file:\n",
    "    return base64.b64encode(image_file.read()).decode('utf-8')\n",
    "\n",
    "# Path to your image\n",
    "image_path = \"happy.jpeg\"\n",
    "\n",
    "# Getting the base64 string\n",
    "base64_image = encode_image(image_path)\n",
    "\n",
    "headers = {\n",
    "  \"Content-Type\": \"application/json\",\n",
    "  \"Authorization\": f\"Bearer {api_key}\"\n",
    "}\n",
    "\n",
    "payload = {\n",
    "  \"model\": \"gpt-4-vision-preview\",\n",
    "  \"messages\": [\n",
    "    {\n",
    "      \"role\": \"user\",\n",
    "      \"content\": [\n",
    "        {\n",
    "          \"type\": \"text\",\n",
    "          \"text\": \"图中人的情绪是以下哪种？开心，悲伤，愤怒，焦虑，无聊，恐惧，惊讶，厌恶，烦躁。仅仅回答每种情绪的可能性，用数字%表达。\"\n",
    "        },\n",
    "        {\n",
    "          \"type\": \"image_url\",\n",
    "          \"image_url\": {\n",
    "            \"url\": f\"data:image/jpeg;base64,{base64_image}\"\n",
    "          }\n",
    "        }\n",
    "      ]\n",
    "    }\n",
    "  ],\n",
    "  \"max_tokens\": 300\n",
    "}\n",
    "\n",
    "response = requests.post(\"https://api.openai.com/v1/chat/completions\", headers=headers, json=payload, proxies={\"https\": \"http://127.0.0.1:1080\"})\n",
    "\n",
    "print(response.json())"
   ]
  },
  {
   "cell_type": "code",
   "execution_count": 4,
   "metadata": {},
   "outputs": [
    {
     "name": "stdout",
     "output_type": "stream",
     "text": [
      "根据图片中的人的表情和肢体语言，以下是每种情绪的可能性：\n",
      "\n",
      "- 开心：95%\n",
      "- 悲伤：5%\n",
      "- 愤怒：0%\n",
      "- 焦虑：0%\n",
      "- 无聊：0%\n",
      "- 恐惧：0%\n",
      "- 惊讶：0%\n",
      "- 厌恶：0%\n",
      "- 烦躁：0%\n",
      "\n",
      "这些百分比基于图中人物的微笑和肢体姿势所表现出的积极和快乐的情感。请注意，这仅是一个主观的估计。\n"
     ]
    }
   ],
   "source": [
    "print(response.json()[\"choices\"][0]['message']['content'])"
   ]
  }
 ],
 "metadata": {
  "kernelspec": {
   "display_name": "Python 3",
   "language": "python",
   "name": "python3"
  },
  "language_info": {
   "codemirror_mode": {
    "name": "ipython",
    "version": 3
   },
   "file_extension": ".py",
   "mimetype": "text/x-python",
   "name": "python",
   "nbconvert_exporter": "python",
   "pygments_lexer": "ipython3",
   "version": "3.10.12"
  }
 },
 "nbformat": 4,
 "nbformat_minor": 2
}
