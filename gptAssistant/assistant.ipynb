{
 "cells": [
  {
   "cell_type": "code",
   "execution_count": 18,
   "metadata": {},
   "outputs": [],
   "source": [
    "from openai import OpenAI\n",
    "import time\n",
    "import os\n",
    "import json\n",
    "\n",
    "os.environ['http_proxy'] = 'localhost:1080'\n",
    "os.environ['https_proxy'] = 'localhost:1080'\n",
    "\n",
    "assistant_id = \"asst_Yqgv3u1O7SoJ0k4Bu2shxz6y\"\n",
    "thread_id = \"thread_uvIpVGfP3HxnCGr4AgaBT9KU\"\n",
    "\n",
    "f = open(\"api_key\", \"r\")\n",
    "api_key = f.readline()\n",
    "client = OpenAI(api_key=api_key)\n"
   ]
  },
  {
   "cell_type": "code",
   "execution_count": 19,
   "metadata": {},
   "outputs": [],
   "source": [
    "# assistant = client.beta.assistants.create(\n",
    "#   name=\"Test Assistant\",\n",
    "#   instructions=\"You are a personal math tutor. Write and run code to answer math questions.\",\n",
    "#   tools=[{\"type\": \"code_interpreter\"}],\n",
    "#   model=\"gpt-4-turbo-preview\",\n",
    "# )\n",
    "# assistant_id = assistant.id"
   ]
  },
  {
   "cell_type": "code",
   "execution_count": 20,
   "metadata": {},
   "outputs": [],
   "source": [
    "# assistant"
   ]
  },
  {
   "cell_type": "code",
   "execution_count": 21,
   "metadata": {},
   "outputs": [],
   "source": [
    "# thread = client.beta.threads.create()"
   ]
  },
  {
   "cell_type": "code",
   "execution_count": 22,
   "metadata": {},
   "outputs": [],
   "source": [
    "# thread"
   ]
  },
  {
   "cell_type": "code",
   "execution_count": 42,
   "metadata": {},
   "outputs": [],
   "source": [
    "message = client.beta.threads.messages.create(\n",
    "    thread_id=thread_id,\n",
    "    role=\"user\",\n",
    "    content=\"What's the answer of 111*111\"\n",
    ")\n",
    "\n",
    "run = client.beta.threads.runs.create(\n",
    "  thread_id=thread_id,\n",
    "  assistant_id=assistant_id,\n",
    "  # instructions=\"Please address the user as Jane Doe. The user has a premium account.\"\n",
    ")"
   ]
  },
  {
   "cell_type": "code",
   "execution_count": 43,
   "metadata": {},
   "outputs": [
    {
     "name": "stdout",
     "output_type": "stream",
     "text": [
      "in_progress\n",
      "in_progress\n",
      "in_progress\n",
      "completed\n",
      "SyncCursorPage[ThreadMessage](data=[ThreadMessage(id='msg_mBjytTgmgJTtrUeT2bPYDPJX', assistant_id='asst_Yqgv3u1O7SoJ0k4Bu2shxz6y', content=[MessageContentText(text=Text(annotations=[], value='The result of \\\\(111 \\\\times 111\\\\) is \\\\(12,321\\\\). If you need any more calculations or have other questions, just let me know!'), type='text')], created_at=1712901558, file_ids=[], metadata={}, object='thread.message', role='assistant', run_id='run_54ycRJ0Z4UhYOjZ4bjH8sw7r', thread_id='thread_uvIpVGfP3HxnCGr4AgaBT9KU'), ThreadMessage(id='msg_TnLBXoMQ9r9x9o0BFgw7fohJ', assistant_id=None, content=[MessageContentText(text=Text(annotations=[], value=\"What's the answer of 111*111\"), type='text')], created_at=1712901554, file_ids=[], metadata={}, object='thread.message', role='user', run_id=None, thread_id='thread_uvIpVGfP3HxnCGr4AgaBT9KU'), ThreadMessage(id='msg_y7QGGRseVdq6vvvmx1gR7Puz', assistant_id='asst_Yqgv3u1O7SoJ0k4Bu2shxz6y', content=[MessageContentText(text=Text(annotations=[], value='The solution to the equation \\\\(3x + 11 = 14\\\\) is \\\\(x = 1\\\\). If you need any further assistance or have more equations to solve, feel free to ask!'), type='text')], created_at=1712901270, file_ids=[], metadata={}, object='thread.message', role='assistant', run_id='run_IdxaKhv2XjcUbIOXUxoY4Cyo', thread_id='thread_uvIpVGfP3HxnCGr4AgaBT9KU'), ThreadMessage(id='msg_SeBCq5RuNO0Nlk22T7PTjIM3', assistant_id='asst_Yqgv3u1O7SoJ0k4Bu2shxz6y', content=[MessageContentText(text=Text(annotations=[], value=\"Certainly! We need to solve the equation \\\\(3x + 11 = 14\\\\).\\n\\nTo find the value of \\\\(x\\\\), we'll perform the following steps:\\n1. Subtract 11 from both sides of the equation to isolate the term with \\\\(x\\\\) on one side.\\n2. Divide both sides by 3 to solve for \\\\(x\\\\).\\n\\nLet's begin with the calculation.\"), type='text')], created_at=1712901265, file_ids=[], metadata={}, object='thread.message', role='assistant', run_id='run_IdxaKhv2XjcUbIOXUxoY4Cyo', thread_id='thread_uvIpVGfP3HxnCGr4AgaBT9KU'), ThreadMessage(id='msg_9KfyohYpt828ITCXjNGpCV68', assistant_id=None, content=[MessageContentText(text=Text(annotations=[], value='I need to solve the equation `3x + 11 = 14`. Can you help me?'), type='text')], created_at=1712901263, file_ids=[], metadata={}, object='thread.message', role='user', run_id=None, thread_id='thread_uvIpVGfP3HxnCGr4AgaBT9KU'), ThreadMessage(id='msg_2lynWy5nyH1z06DZ8uxgwx97', assistant_id='asst_Yqgv3u1O7SoJ0k4Bu2shxz6y', content=[MessageContentText(text=Text(annotations=[], value='The solution to the equation \\\\(3x + 11 = 14\\\\) is \\\\(x = 1\\\\). If you have any more equations or another question, feel free to ask!'), type='text')], created_at=1712900796, file_ids=[], metadata={}, object='thread.message', role='assistant', run_id='run_9Ft7kkVrRLOfCvsLS1x6aAzQ', thread_id='thread_uvIpVGfP3HxnCGr4AgaBT9KU'), ThreadMessage(id='msg_jbQeUrHHCoTSxiXQZ56zQLK6', assistant_id='asst_Yqgv3u1O7SoJ0k4Bu2shxz6y', content=[MessageContentText(text=Text(annotations=[], value=\"Absolutely, I'd be happy to help you solve the equation \\\\(3x + 11 = 14\\\\).\\n\\nTo solve for \\\\(x\\\\), we'll start by subtracting 11 from both sides to isolate the \\\\(x\\\\) term. Then, we'll divide by 3 to solve for \\\\(x\\\\).\\n\\nLet's do the calculations.\"), type='text')], created_at=1712900791, file_ids=[], metadata={}, object='thread.message', role='assistant', run_id='run_9Ft7kkVrRLOfCvsLS1x6aAzQ', thread_id='thread_uvIpVGfP3HxnCGr4AgaBT9KU'), ThreadMessage(id='msg_3ozWUE14aLwCcOh0ymfNo6le', assistant_id=None, content=[MessageContentText(text=Text(annotations=[], value='I need to solve the equation `3x + 11 = 14`. Can you help me?'), type='text')], created_at=1712900790, file_ids=[], metadata={}, object='thread.message', role='user', run_id=None, thread_id='thread_uvIpVGfP3HxnCGr4AgaBT9KU'), ThreadMessage(id='msg_hLhQJRiB2SWxmIf9OF6cyZBw', assistant_id='asst_Yqgv3u1O7SoJ0k4Bu2shxz6y', content=[MessageContentText(text=Text(annotations=[], value='The solution to the equation \\\\(3x + 11 = 14\\\\) is \\\\(x = 1\\\\). If you have any more equations or another question, feel free to ask!'), type='text')], created_at=1712900625, file_ids=[], metadata={}, object='thread.message', role='assistant', run_id='run_gP81qZuwR3jGkyJ34Dl5bX64', thread_id='thread_uvIpVGfP3HxnCGr4AgaBT9KU'), ThreadMessage(id='msg_ltXQfVwvQuIeNoRgIWnjFnX7', assistant_id='asst_Yqgv3u1O7SoJ0k4Bu2shxz6y', content=[MessageContentText(text=Text(annotations=[], value=\"Absolutely, I can help you solve the equation \\\\(3x + 11 = 14\\\\).\\n\\nTo find the value of \\\\(x\\\\), we'll perform the following steps:\\n1. Subtract 11 from both sides of the equation to isolate the term with \\\\(x\\\\) on one side.\\n2. Divide both sides by 3 to solve for \\\\(x\\\\).\\n\\nLet's start with step 1.\"), type='text')], created_at=1712900614, file_ids=[], metadata={}, object='thread.message', role='assistant', run_id='run_gP81qZuwR3jGkyJ34Dl5bX64', thread_id='thread_uvIpVGfP3HxnCGr4AgaBT9KU'), ThreadMessage(id='msg_QaRLAzroE991TILvr4HJy36t', assistant_id=None, content=[MessageContentText(text=Text(annotations=[], value='I need to solve the equation `3x + 11 = 14`. Can you help me?'), type='text')], created_at=1712900612, file_ids=[], metadata={}, object='thread.message', role='user', run_id=None, thread_id='thread_uvIpVGfP3HxnCGr4AgaBT9KU'), ThreadMessage(id='msg_ArQXJim40UL8m1pKaJEUha3n', assistant_id=None, content=[MessageContentText(text=Text(annotations=[], value='I need to solve the equation `3x + 11 = 14`. Can you help me?'), type='text')], created_at=1712900480, file_ids=[], metadata={}, object='thread.message', role='user', run_id=None, thread_id='thread_uvIpVGfP3HxnCGr4AgaBT9KU')], object='list', first_id='msg_mBjytTgmgJTtrUeT2bPYDPJX', last_id='msg_ArQXJim40UL8m1pKaJEUha3n', has_more=False)\n"
     ]
    }
   ],
   "source": [
    "while run.status != 'completed':\n",
    "  run = client.beta.threads.runs.retrieve(thread_id=thread_id, run_id=run.id)\n",
    "  print(run.status)\n",
    "  time.sleep(1)\n",
    "\n",
    "if run.status == 'completed': \n",
    "  messages = client.beta.threads.messages.list(\n",
    "    thread_id=thread_id\n",
    "  )\n",
    "  print(messages)\n",
    "else:\n",
    "  print(\"error\")"
   ]
  },
  {
   "cell_type": "code",
   "execution_count": 44,
   "metadata": {},
   "outputs": [
    {
     "data": {
      "text/plain": [
       "'The result of \\\\(111 \\\\times 111\\\\) is \\\\(12,321\\\\). If you need any more calculations or have other questions, just let me know!'"
      ]
     },
     "execution_count": 44,
     "metadata": {},
     "output_type": "execute_result"
    }
   ],
   "source": [
    "messages.data[0].content[0].text.value"
   ]
  }
 ],
 "metadata": {
  "kernelspec": {
   "display_name": "Python 3",
   "language": "python",
   "name": "python3"
  },
  "language_info": {
   "codemirror_mode": {
    "name": "ipython",
    "version": 3
   },
   "file_extension": ".py",
   "mimetype": "text/x-python",
   "name": "python",
   "nbconvert_exporter": "python",
   "pygments_lexer": "ipython3",
   "version": "3.12.1"
  }
 },
 "nbformat": 4,
 "nbformat_minor": 2
}
